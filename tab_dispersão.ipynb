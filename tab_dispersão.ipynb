{
 "cells": [
  {
   "metadata": {},
   "cell_type": "markdown",
   "source": [
    "# Tabela de Dispersão\n",
    "\n",
    "Alunos: Karoline Rodrigues Costa, Alex de Sousa Silva, Luiz Gustavo Silva Carvalho"
   ],
   "id": "6fd98cafd2502499"
  },
  {
   "metadata": {},
   "cell_type": "markdown",
   "source": [
    "Essa atividade visa estudarmos um pouco mais os conteúdos vistos em aula, a ideia é implementar uma Tabela de Dispersão em Python.\n",
    "\n",
    "Para fazer isso, será necessário um estudo sobre estrutura de dicionário, ou estrutura chave-valor em python. Pesquisem sobre isso antes de iniciar a implementação.\n",
    "\n",
    "A implementação da tabela hash, consistirá em criação de uma classe, com dois atributos, o tamanho da tabela (que deverá ser passado como argumento da classe) e o dicionário vazio. Os métodos a serem implementados são o de inserção de novos elementos na tabela, fazendo o tratamento de colisões (por pelo menos dois métodos); o de busca por um elemento; e o de remoção de um elemento. Métodos adicionais como a impressão de certas linhas da tabela ou outra funcionalidade que seja útil são bem-vindos.\n",
    "\n",
    "Faça testes, comente o código, use os textos entre os códigos para explicar o que tem em cada chunk, tire conclusões sobre os resultados encontrados e coloque em células de texto do colab.\n",
    "\n"
   ],
   "id": "721669d06391fb64"
  },
  {
   "metadata": {},
   "cell_type": "markdown",
   "source": "### Definindo a tabela",
   "id": "b000118b85158ce"
  },
  {
   "metadata": {
    "collapsed": true,
    "jupyter": {
     "is_executing": true
    }
   },
   "cell_type": "code",
   "outputs": [],
   "execution_count": null,
   "source": [
    "class HashTable:\n",
    "    def __init__(self, size):\n",
    "        self.size = size\n",
    "        self.table = [None] * size"
   ],
   "id": "initial_id"
  },
  {
   "metadata": {},
   "cell_type": "code",
   "outputs": [],
   "execution_count": null,
   "source": [
    "    def _hash_function(self, key):\n",
    "        return hash(key) % self.size"
   ],
   "id": "49ba117d679f5b0b"
  },
  {
   "metadata": {},
   "cell_type": "markdown",
   "source": "### Método de inserção",
   "id": "6938e540c5658807"
  },
  {
   "metadata": {},
   "cell_type": "code",
   "outputs": [],
   "execution_count": null,
   "source": [
    "    def insert(self, key, value):\n",
    "       index = self._hash_function(key)\n",
    "       if self.table[index] is None:\n",
    "           self.table[index] = []\n",
    "        self.table[index].append((key, value))"
   ],
   "id": "e659e4cdd9f7606e"
  },
  {
   "metadata": {},
   "cell_type": "markdown",
   "source": "### Método de busca",
   "id": "e7aa2cccdbeae744"
  },
  {
   "metadata": {},
   "cell_type": "code",
   "outputs": [],
   "execution_count": null,
   "source": [
    "def search(self, key):\n",
    "    index = self._hash_function(key)\n",
    "    if self.table[index] is not None:\n",
    "        for k, v in self.table[index]:\n",
    "            if k == key:\n",
    "                return v\n",
    "    return None"
   ],
   "id": "eec18cbe250cc54d"
  },
  {
   "metadata": {},
   "cell_type": "markdown",
   "source": "### Método de remoção",
   "id": "35084589e08b8356"
  },
  {
   "metadata": {},
   "cell_type": "code",
   "outputs": [],
   "execution_count": null,
   "source": [
    "def delete(self, key):\n",
    "    index = self._hash_function(key)\n",
    "    if self.table[index] is not None:\n",
    "        for i, (k, v) in enumerate(self.table[index]):\n",
    "            if k == key:\n",
    "                del self.table[index][i]\n",
    "                return True\n",
    "    return False"
   ],
   "id": "2e027663e6655843"
  },
  {
   "metadata": {},
   "cell_type": "markdown",
   "source": "### Testes",
   "id": "270721a4a299f1a"
  },
  {
   "metadata": {},
   "cell_type": "markdown",
   "source": "#### definindo a tabela",
   "id": "2722aa4e04729a96"
  },
  {
   "metadata": {},
   "cell_type": "code",
   "outputs": [],
   "execution_count": null,
   "source": "hash_table = HashTable(10)\n",
   "id": "51474cea9a538b73"
  },
  {
   "metadata": {},
   "cell_type": "markdown",
   "source": "#### inserindo valores na tabela",
   "id": "703d0a6fa49c3d6c"
  },
  {
   "metadata": {},
   "cell_type": "code",
   "outputs": [],
   "execution_count": null,
   "source": [
    "hash_table.insert('key1', 'value1')\n",
    "hash_table.insert('key2', 'value2')\n",
    "hash_table.insert('key3', 'value3')"
   ],
   "id": "f6a6acd24758ed8d"
  },
  {
   "metadata": {},
   "cell_type": "markdown",
   "source": "#### buscando valores na tabela",
   "id": "d75d83b5a63235e"
  },
  {
   "metadata": {},
   "cell_type": "code",
   "outputs": [],
   "execution_count": null,
   "source": [
    "print(hash_table.search('key1'))\n",
    "print(hash_table.search('key2')) \n",
    "print(hash_table.search('key4')) "
   ],
   "id": "5db89e642d897d67"
  },
  {
   "metadata": {},
   "cell_type": "markdown",
   "source": "#### deletando e buscando valores",
   "id": "ec5033c9e2922200"
  },
  {
   "metadata": {},
   "cell_type": "code",
   "outputs": [],
   "execution_count": null,
   "source": [
    "print(hash_table.delete('key2'))\n",
    "print(hash_table.search('key2'))"
   ],
   "id": "b9766f6cfb40d7a1"
  },
  {
   "metadata": {},
   "cell_type": "markdown",
   "source": "#### deletando um valor inexistente",
   "id": "5f0234db9e26e0fb"
  },
  {
   "metadata": {},
   "cell_type": "code",
   "outputs": [],
   "execution_count": null,
   "source": "print(hash_table.delete('key4'))",
   "id": "5997d3c0de2cd12c"
  }
 ],
 "metadata": {
  "kernelspec": {
   "display_name": "Python 3",
   "language": "python",
   "name": "python3"
  },
  "language_info": {
   "codemirror_mode": {
    "name": "ipython",
    "version": 2
   },
   "file_extension": ".py",
   "mimetype": "text/x-python",
   "name": "python",
   "nbconvert_exporter": "python",
   "pygments_lexer": "ipython2",
   "version": "2.7.6"
  }
 },
 "nbformat": 4,
 "nbformat_minor": 5
}
